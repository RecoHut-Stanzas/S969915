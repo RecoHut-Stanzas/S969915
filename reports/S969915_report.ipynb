{
  "cells": [
    {
      "cell_type": "markdown",
      "source": [
        "# Self-Supervised Graph Co-Training for Session-based Recommendation"
      ],
      "metadata": {
        "id": "lIYdn1woOS1n"
      }
    },
    {
      "cell_type": "markdown",
      "source": [
        "## Executive summary\n",
        "\n",
        "| | |\n",
        "| --- | --- |\n",
        "| Problem | Session-based recommendation targets next-item prediction by exploiting user behaviors within a short time period. Compared with other recommendation paradigms, session-based recommendation suffers more from the problem of data sparsity due to the very limited short-term interactions. Self-supervised learning, which can discover ground-truth samples from the raw data, holds vast potentials to tackle this problem. However, existing self-supervised recommendation models mainly rely on item/segment dropout to augment data, which are not fit for session-based recommendation because the dropout leads to sparser data, creating unserviceable self-supervision signals. |\n",
        "| Solution | For informative session-based data augmentation, we combine self-supervised learning with co-training, and then develop a framework to enhance session-based recommendation. Technically, we first exploit the session-based graph to augment two views that exhibit the internal and external connectivities of sessions, and then we build two distinct graph encoders over the two views, which recursively leverage the different connectivity information to generate ground-truth samples to supervise each other by contrastive learning. In contrast to the dropout strategy, the proposed self-supervised graph co-training preserves the complete session information and fulfills genuine data augmentation. |\n",
        "| Dataset | Diginetica, Tmall, and RetailRocket. |\n",
        "| Preprocessing | We filter out all sessions whose length is 1 and items appearing less than 5 times. Latest data (such as, the data of last week) is set to be test set and previous data is used as training set. Then, we augment and label the training and test datasets by using a sequence splitting method, which generates multiple labeled sequences with the corresponding labels ( [𝑖𝑠,1],𝑖𝑠,2), ( [𝑖𝑠,1,𝑖𝑠,2],𝑖𝑠,3), ..., ( [𝑖𝑠,1,𝑖𝑠,2, ...,𝑖𝑠,𝑚−1],𝑖𝑠,𝑚) for every session 𝑠 = [𝑖𝑠,1,𝑖𝑠,2,𝑖𝑠,3, ...,𝑖𝑠,𝑚]. Note that the label of each sequence is the last click item in it. |\n",
        "| Metrics | Precision, MRR. |\n",
        "| Hyperparams | We set the embedding size to 100, the batch size for mini-batch to 100, and the 𝐿2 regularization to 10−5 . All parameters are initialized with the Gaussian Distribution N (0, 0.1). We use Adam with the learning rate of 0.001 to optimize our model. For the number of layers of graph convolution on the three datasets, a three-layer setting achieves the best performance. |\n",
        "| Models | CO-Training framework for session-based RECommendation (COTREC) |\n",
        "| Cluster | Python 3.6+, PyTorch, CUDA GPU. |\n",
        "| Tags | `SessionRecommender`, `SelfSupervisedLearning`, `GraphNeuralNetwork`, `CoTraining` |\n",
        "| Credits | Xin Xia |"
      ],
      "metadata": {
        "id": "LnuDlaMJfO7-"
      }
    },
    {
      "cell_type": "markdown",
      "source": [
        "## Model\n",
        "\n",
        "![Figure: An overview of the proposed COTREC framework.](https://github.com/RecoHut-Stanzas/S969915/raw/main/images/cotrec_model.png)\n",
        "\n",
        "Figure: An overview of the proposed COTREC framework.\n",
        "\n",
        "### Training procedure\n",
        "\n",
        "![https://github.com/RecoHut-Stanzas/S969915/raw/main/images/cotrec_training.png](https://github.com/RecoHut-Stanzas/S969915/raw/main/images/cotrec_training.png)\n",
        "\n",
        "## Tutorials\n",
        "\n",
        "### Training COTREC Session-based recommendation model on Diginetica, Tmall, and RetailRocket datasets\n",
        "\n",
        "[direct link to notebook →](https://github.com/RecoHut-Stanzas/S969915/blob/main/nbs/P740460_Training_COTREC_Session_based_recommendation_model_on_Diginetica%2C_Tmall%2C_and_RetailRocket_datasets.ipynb)\n",
        "\n",
        "![https://github.com/RecoHut-Stanzas/S969915/raw/main/images/process_flow.svg](https://github.com/RecoHut-Stanzas/S969915/raw/main/images/process_flow.svg)\n",
        "\n",
        "## References\n",
        "\n",
        "1. [https://github.com/RecoHut-Stanzas/S969915](https://github.com/RecoHut-Stanzas/S969915)\n",
        "2. [https://arxiv.org/pdf/2108.10560v1.pdf](https://arxiv.org/pdf/2108.10560v1.pdf)\n",
        "3. [https://github.com/xiaxin1998/cotrec](https://github.com/xiaxin1998/cotrec)"
      ],
      "metadata": {
        "id": "355oHs3ziPK9"
      }
    }
  ],
  "metadata": {
    "colab": {
      "name": "scratchpad",
      "provenance": []
    },
    "kernelspec": {
      "display_name": "Python 3",
      "name": "python3"
    }
  },
  "nbformat": 4,
  "nbformat_minor": 0
}